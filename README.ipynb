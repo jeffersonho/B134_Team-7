{
 "cells": [
  {
   "cell_type": "markdown",
   "id": "41e6a391",
   "metadata": {
    "toc": true
   },
   "source": [
    "<h1>Table of Contents<span class=\"tocSkip\"></span></h1>\n",
    "<div class=\"toc\"><ul class=\"toc-item\"><li><span><a href=\"#Exploring-Climate-Change\" data-toc-modified-id=\"Exploring-Climate-Change-1\">Exploring Climate Change</a></span><ul class=\"toc-item\"><li><span><a href=\"#About-This-Project\" data-toc-modified-id=\"About-This-Project-1.1\">About This Project</a></span><ul class=\"toc-item\"><li><span><a href=\"#Contributors\" data-toc-modified-id=\"Contributors-1.1.1\">Contributors</a></span></li></ul></li><li><span><a href=\"#Why-Climate-Change?\" data-toc-modified-id=\"Why-Climate-Change?-1.2\">Why Climate Change?</a></span></li><li><span><a href=\"#Problem-Definition\" data-toc-modified-id=\"Problem-Definition-1.3\">Problem Definition</a></span></li><li><span><a href=\"#Models-Used\" data-toc-modified-id=\"Models-Used-1.4\">Models Used</a></span></li><li><span><a href=\"#Content-Flow\" data-toc-modified-id=\"Content-Flow-1.5\">Content Flow</a></span></li><li><span><a href=\"#Conclusion\" data-toc-modified-id=\"Conclusion-1.6\">Conclusion</a></span></li><li><span><a href=\"#Insights-Gained-From-This-Project\" data-toc-modified-id=\"Insights-Gained-From-This-Project-1.7\">Insights Gained From This Project</a></span></li><li><span><a href=\"#References\" data-toc-modified-id=\"References-1.8\">References</a></span></li></ul></li></ul></div>"
   ]
  },
  {
   "cell_type": "markdown",
   "id": "5b677e52",
   "metadata": {},
   "source": [
    "# Exploring Climate Change\n",
    "\n",
    "## About This Project\n",
    "This Mini-Project serves as the final graded piece of work for SC1015 (Introduction to Data Science and Artificial Intelligence). The aim of this project is to utilise supervised learning techniques to tackle a chosen problem.\n",
    "\n",
    "### Contributors\n",
    "\n",
    "\n",
    "## Why Climate Change?\n",
    "* “In 2021, the global mean temperature was about 1.1°C above the pre-industrial level (from 1850 to 1900).The years from 2015 to 2021 were the seven warmest on record.” - United Nations 2022\n",
    "\n",
    "Global warming is an issue that affects our planet in several ways:\n",
    "\n",
    "- Rising Temperatures\n",
    "- Health impacts : Increased heat leads to dehydration, heat exhaustion, and heatstroke.\n",
    "- Melting of glaciers and ice caps\n",
    "- Ocean acidification\n",
    "- Increased frequency of natural disasters\n",
    "\n",
    "\n",
    "\n",
    "## Problem Definition\n",
    "* Global Warming has become a major issue especially over recent years, with temperature rising at an alarming rate. Therefore, our team finds it important to be able to project future temperatures of countries as well as find the predictors that have the most effect on rising temperature. \n",
    "\n",
    "\n",
    "* Are we able to predict the temperature of the land surface area for each country 10 years from now (2023) based on the country's GHG emissions?\n",
    "\n",
    "\n",
    "* What is the most optimal model to takle this time-series forcasting?\n",
    "\n",
    "## Models Used\n",
    "* SARIMA\n",
    "* Prophet\n",
    "\n",
    "## Content Flow\n",
    "The source code for this project is sectioned into five different files for ease of viewing the source code. For the best experience of this project, please view the files in the following order:\n",
    "1. Data Preparation\n",
    "2. Data Visualisation\n",
    "3. Data Resampling and Splitting\n",
    "4. ARIMA\n",
    "5. Prophet\n",
    "\n",
    "## Conclusion\n",
    "\n",
    "## Insights Gained From This Project\n",
    "\n",
    "## References\n"
   ]
  },
  {
   "cell_type": "code",
   "execution_count": null,
   "id": "398faac8",
   "metadata": {},
   "outputs": [],
   "source": []
  },
  {
   "cell_type": "code",
   "execution_count": null,
   "id": "8b60079b",
   "metadata": {},
   "outputs": [],
   "source": []
  }
 ],
 "metadata": {
  "kernelspec": {
   "display_name": "Python 3 (ipykernel)",
   "language": "python",
   "name": "python3"
  },
  "language_info": {
   "codemirror_mode": {
    "name": "ipython",
    "version": 3
   },
   "file_extension": ".py",
   "mimetype": "text/x-python",
   "name": "python",
   "nbconvert_exporter": "python",
   "pygments_lexer": "ipython3",
   "version": "3.10.9"
  },
  "toc": {
   "base_numbering": 1,
   "nav_menu": {},
   "number_sections": false,
   "sideBar": true,
   "skip_h1_title": false,
   "title_cell": "Table of Contents",
   "title_sidebar": "Contents",
   "toc_cell": true,
   "toc_position": {},
   "toc_section_display": true,
   "toc_window_display": false
  }
 },
 "nbformat": 4,
 "nbformat_minor": 5
}
